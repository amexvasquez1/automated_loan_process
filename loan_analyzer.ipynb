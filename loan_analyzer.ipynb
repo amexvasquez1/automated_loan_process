{
 "cells": [
  {
   "cell_type": "code",
   "execution_count": 1,
   "metadata": {},
   "outputs": [
    {
     "output_type": "stream",
     "name": "stdout",
     "text": [
      "The number of loans from the list is 5\n"
     ]
    }
   ],
   "source": [
    "# coding: utf-8\n",
    "import csv\n",
    "from pathlib import Path\n",
    "\n",
    "#Part 1: Automate the Calculations.\n",
    "\n",
    "#Automate the calculations for the loan portfolio summaries.\n",
    "\n",
    "#First, let's start with some calculations on a list of prices for 5 loans.\n",
    "#Print all calculations with descriptive messages.\n",
    "\n",
    "loan_costs = [500, 600, 200, 1000, 450]\n",
    "\n",
    "# How many loans are in the list?\n",
    "number_of_loans = len(loan_costs)\n",
    "\n",
    "# Print the number of loans from the list\n",
    "print (f\"The number of loans from the list is {number_of_loans}\")"
   ]
  },
  {
   "cell_type": "code",
   "execution_count": 2,
   "metadata": {},
   "outputs": [
    {
     "output_type": "stream",
     "name": "stdout",
     "text": [
      "The total value of the loans fromt he list is 2750\n"
     ]
    }
   ],
   "source": [
    "# What is the total of all loans?\n",
    "sum_of_loans = sum(loan_costs)\n",
    "# Print the total value of the loans\n",
    "print (f\"The total value of the loans fromt he list is {sum_of_loans}\")"
   ]
  },
  {
   "cell_type": "code",
   "execution_count": 3,
   "metadata": {},
   "outputs": [
    {
     "output_type": "stream",
     "name": "stdout",
     "text": [
      "The average loan amount from the list is  550\n"
     ]
    }
   ],
   "source": [
    "# What is the average loan amount from the list?\n",
    "average_loan_amount = (sum_of_loans/number_of_loans)\n",
    "# Print the average loan amount\n",
    "print(f\"The average loan amount from the list is {average_loan_amount: .0f}\")"
   ]
  },
  {
   "cell_type": "code",
   "execution_count": 4,
   "metadata": {},
   "outputs": [],
   "source": [
    "#Part 2: Analyze Loan Data\n",
    "\n",
    "# Given the following loan data, you will need to calculate the present value for the loan\n",
    "loan = {\n",
    "    \"loan_price\": 500,\n",
    "    \"remaining_months\": 9,\n",
    "    \"repayment_interval\": \"bullet\",\n",
    "    \"future_value\": 1000,\n",
    "}"
   ]
  },
  {
   "cell_type": "code",
   "execution_count": 4,
   "metadata": {},
   "outputs": [
    {
     "output_type": "error",
     "ename": "NameError",
     "evalue": "name 'loan' is not defined",
     "traceback": [
      "\u001b[0;31m---------------------------------------------------------------------------\u001b[0m",
      "\u001b[0;31mNameError\u001b[0m                                 Traceback (most recent call last)",
      "\u001b[0;32m<ipython-input-4-a3fd2383170b>\u001b[0m in \u001b[0;36m<module>\u001b[0;34m\u001b[0m\n\u001b[1;32m      1\u001b[0m \u001b[0;31m#extracting future value and reamining months\u001b[0m\u001b[0;34m\u001b[0m\u001b[0;34m\u001b[0m\u001b[0;34m\u001b[0m\u001b[0m\n\u001b[0;32m----> 2\u001b[0;31m \u001b[0mfuture_value\u001b[0m \u001b[0;34m=\u001b[0m \u001b[0mloan\u001b[0m\u001b[0;34m.\u001b[0m\u001b[0mget\u001b[0m\u001b[0;34m(\u001b[0m\u001b[0;34m\"future_value\"\u001b[0m\u001b[0;34m)\u001b[0m\u001b[0;34m\u001b[0m\u001b[0;34m\u001b[0m\u001b[0m\n\u001b[0m\u001b[1;32m      3\u001b[0m \u001b[0mprint\u001b[0m\u001b[0;34m(\u001b[0m\u001b[0;34mf\"The future value is {future_value}\"\u001b[0m\u001b[0;34m)\u001b[0m\u001b[0;34m\u001b[0m\u001b[0;34m\u001b[0m\u001b[0m\n\u001b[1;32m      4\u001b[0m \u001b[0mremaining_months\u001b[0m \u001b[0;34m=\u001b[0m \u001b[0mloan\u001b[0m\u001b[0;34m.\u001b[0m\u001b[0mget\u001b[0m\u001b[0;34m(\u001b[0m\u001b[0;34m\"remaining_months\"\u001b[0m\u001b[0;34m)\u001b[0m\u001b[0;34m\u001b[0m\u001b[0;34m\u001b[0m\u001b[0m\n\u001b[1;32m      5\u001b[0m \u001b[0mprint\u001b[0m\u001b[0;34m(\u001b[0m\u001b[0;34mf\"The remaining months is {remaining_months}\"\u001b[0m\u001b[0;34m)\u001b[0m\u001b[0;34m\u001b[0m\u001b[0;34m\u001b[0m\u001b[0m\n",
      "\u001b[0;31mNameError\u001b[0m: name 'loan' is not defined"
     ]
    }
   ],
   "source": [
    "#extracting future value and reamining months\n",
    "future_value = loan.get(\"future_value\")\n",
    "print(f\"The future value is {future_value}\")\n",
    "remaining_months = loan.get(\"remaining_months\")\n",
    "print(f\"The remaining months is {remaining_months}\")"
   ]
  },
  {
   "cell_type": "code",
   "execution_count": 6,
   "metadata": {},
   "outputs": [
    {
     "name": "stdout",
     "output_type": "stream",
     "text": [
      "The present value of the loan is 861.7727126032183\n"
     ]
    }
   ],
   "source": [
    "# Use the formula for Present Value to calculate a \"fair value\" of the loan with minimun required return of 20%\n",
    "present_value = future_value / (1 + .20/12) ** remaining_months\n",
    "print(f\"The present value of the loan is {present_value}\")\n"
   ]
  },
  {
   "cell_type": "code",
   "execution_count": 9,
   "metadata": {},
   "outputs": [
    {
     "name": "stdout",
     "output_type": "stream",
     "text": [
      "This loan is a good buy!\n"
     ]
    }
   ],
   "source": [
    "#Write a conditional statement (an if-else statement) to decide if the present value represents the loan's fair value.\n",
    "#    If the present value of the loan is greater than or equal to the cost, then print a message that says the loan is worth at least the cost to buy it.\n",
    "#    Else, the present value of the loan is less than the loan cost, then print a message that says that the loan is too expensive and not worth the price.\n",
    "\n",
    "if present_value >= loan.get(\"loan_price\"):\n",
    "    print(\"This loan is a good buy!\"),\n",
    "else:\n",
    "    print(\"This loan is NOT a good buy!\")"
   ]
  },
  {
   "cell_type": "code",
   "execution_count": 20,
   "metadata": {},
   "outputs": [
    {
     "name": "stdout",
     "output_type": "stream",
     "text": [
      "The present value of the loan is 820.0814425978174\n"
     ]
    }
   ],
   "source": [
    "#Part 3 Perform financial calculations.\n",
    "\n",
    "# Given the following loan data, you will need to calculate the present value for the loan\n",
    "new_loan = {\n",
    "    \"loan_price\": 800,\n",
    "    \"remaining_months\": 12,\n",
    "    \"repayment_interval\": \"bullet\",\n",
    "    \"future_value\": 1000,\n",
    "}\n",
    "\n",
    "def calculate_present_value (future_value, remaining_months, annual_discount_rate):\n",
    "    present_value = (future_value / (1 + .20/12) ** remaining_months)\n",
    "    return present_value\n",
    "future_value = 1000\n",
    "remaining_months =12\n",
    "annual_discount_rate = .20\n",
    "\n",
    "calculate_present_value(future_value, remaining_months, annual_discount_rate)\n",
    "print(f\"The present value of the loan is {calculate_present_value(future_value, remaining_months, annual_discount_rate)}\")"
   ]
  },
  {
   "cell_type": "code",
   "execution_count": 21,
   "metadata": {},
   "outputs": [],
   "source": [
    "# Part 4 : Conditionally filter list of loans.\n",
    "#In this section, you will use a loop to iterate through a series of loans and select only the inexpensive loans.\n",
    "\n",
    "#1. Create a new, empty list called `inexpensive_loans`.\n",
    "#2. Use a for loop to select each loan from a list of loans.\n",
    "    #a. Inside the for loop, write an if-statement to determine if the loan_price is less than 500\n",
    "    #b. If the loan_price is less than 500 then append that loan to the `inexpensive_loans` list.\n",
    "#3. Print the list of inexpensive_loans.\n",
    "\n",
    "loans = [\n",
    "    {\n",
    "        \"loan_price\": 700,\n",
    "        \"remaining_months\": 9,\n",
    "        \"repayment_interval\": \"monthly\",\n",
    "        \"future_value\": 1000,\n",
    "    },\n",
    "    {\n",
    "        \"loan_price\": 500,\n",
    "        \"remaining_months\": 13,\n",
    "        \"repayment_interval\": \"bullet\",\n",
    "        \"future_value\": 1000,\n",
    "    },\n",
    "    {\n",
    "        \"loan_price\": 200,\n",
    "        \"remaining_months\": 16,\n",
    "        \"repayment_interval\": \"bullet\",\n",
    "        \"future_value\": 1000,\n",
    "    },\n",
    "    {\n",
    "        \"loan_price\": 900,\n",
    "        \"remaining_months\": 16,\n",
    "        \"repayment_interval\": \"bullet\",\n",
    "        \"future_value\": 1000,\n",
    "    },\n",
    "]"
   ]
  },
  {
   "cell_type": "code",
   "execution_count": 28,
   "metadata": {},
   "outputs": [
    {
     "name": "stdout",
     "output_type": "stream",
     "text": [
      "The inexpensive loans are [{'loan_price': 500, 'remaining_months': 13, 'repayment_interval': 'bullet', 'future_value': 1000}, {'loan_price': 200, 'remaining_months': 16, 'repayment_interval': 'bullet', 'future_value': 1000}]\n"
     ]
    }
   ],
   "source": [
    "#Create empty list, called inexpensive_loans.\n",
    "\n",
    "inexpensive_loans = []\n",
    "\n",
    "# @TODO: Loop through all the loans and append any that cost $500 or less to the `inexpensive_loans` list\n",
    "\n",
    "for loan in loans:\n",
    "    if loan[\"loan_price\"] <=500:\n",
    "        inexpensive_loans.append(loan)\n",
    "        \n",
    "#Print \"inexpensive_loans\"\n",
    "\n",
    "print(f\"The inexpensive loans are {inexpensive_loans}\")"
   ]
  },
  {
   "cell_type": "code",
   "execution_count": 29,
   "metadata": {},
   "outputs": [],
   "source": [
    "#Part 5: Save the results.\n",
    "header = [\"loan_price\", \"remaining_months\", \"repayment_interval\", \"future_value\"]"
   ]
  },
  {
   "cell_type": "code",
   "execution_count": 32,
   "metadata": {},
   "outputs": [],
   "source": [
    "# Set the output file path\n",
    "output_path = Path(\"inexpensive_loans.csv\")"
   ]
  },
  {
   "cell_type": "code",
   "execution_count": 37,
   "metadata": {},
   "outputs": [],
   "source": [
    "with open(output_path, 'w', newline='') as csvfile:\n",
    "    csvwriter = csv.writer(csvfile)\n",
    "\n",
    "    # Write our header row first!\n",
    "    csvwriter.writerow(header)\n",
    "    # Then we can write the data rows\n",
    "    for row in inexpensive_loans:\n",
    "        csvwriter.writerow(row.values())"
   ]
  },
  {
   "cell_type": "code",
   "execution_count": null,
   "metadata": {},
   "outputs": [],
   "source": []
  }
 ],
 "metadata": {
  "kernelspec": {
   "display_name": "Python 3",
   "language": "python",
   "name": "python3"
  },
  "language_info": {
   "codemirror_mode": {
    "name": "ipython",
    "version": 3
   },
   "file_extension": ".py",
   "mimetype": "text/x-python",
   "name": "python",
   "nbconvert_exporter": "python",
   "pygments_lexer": "ipython3",
   "version": "3.8.5-final"
  }
 },
 "nbformat": 4,
 "nbformat_minor": 4
}